{
 "cells": [
  {
   "cell_type": "code",
   "execution_count": 1,
   "metadata": {},
   "outputs": [
    {
     "name": "stderr",
     "output_type": "stream",
     "text": [
      "Using TensorFlow backend.\n",
      "C:\\Users\\Admin\\Anaconda3\\lib\\site-packages\\tensorflow\\python\\framework\\dtypes.py:516: FutureWarning: Passing (type, 1) or '1type' as a synonym of type is deprecated; in a future version of numpy, it will be understood as (type, (1,)) / '(1,)type'.\n",
      "  _np_qint8 = np.dtype([(\"qint8\", np.int8, 1)])\n",
      "C:\\Users\\Admin\\Anaconda3\\lib\\site-packages\\tensorflow\\python\\framework\\dtypes.py:517: FutureWarning: Passing (type, 1) or '1type' as a synonym of type is deprecated; in a future version of numpy, it will be understood as (type, (1,)) / '(1,)type'.\n",
      "  _np_quint8 = np.dtype([(\"quint8\", np.uint8, 1)])\n",
      "C:\\Users\\Admin\\Anaconda3\\lib\\site-packages\\tensorflow\\python\\framework\\dtypes.py:518: FutureWarning: Passing (type, 1) or '1type' as a synonym of type is deprecated; in a future version of numpy, it will be understood as (type, (1,)) / '(1,)type'.\n",
      "  _np_qint16 = np.dtype([(\"qint16\", np.int16, 1)])\n",
      "C:\\Users\\Admin\\Anaconda3\\lib\\site-packages\\tensorflow\\python\\framework\\dtypes.py:519: FutureWarning: Passing (type, 1) or '1type' as a synonym of type is deprecated; in a future version of numpy, it will be understood as (type, (1,)) / '(1,)type'.\n",
      "  _np_quint16 = np.dtype([(\"quint16\", np.uint16, 1)])\n",
      "C:\\Users\\Admin\\Anaconda3\\lib\\site-packages\\tensorflow\\python\\framework\\dtypes.py:520: FutureWarning: Passing (type, 1) or '1type' as a synonym of type is deprecated; in a future version of numpy, it will be understood as (type, (1,)) / '(1,)type'.\n",
      "  _np_qint32 = np.dtype([(\"qint32\", np.int32, 1)])\n",
      "C:\\Users\\Admin\\Anaconda3\\lib\\site-packages\\tensorflow\\python\\framework\\dtypes.py:525: FutureWarning: Passing (type, 1) or '1type' as a synonym of type is deprecated; in a future version of numpy, it will be understood as (type, (1,)) / '(1,)type'.\n",
      "  np_resource = np.dtype([(\"resource\", np.ubyte, 1)])\n",
      "C:\\Users\\Admin\\Anaconda3\\lib\\site-packages\\tensorboard\\compat\\tensorflow_stub\\dtypes.py:541: FutureWarning: Passing (type, 1) or '1type' as a synonym of type is deprecated; in a future version of numpy, it will be understood as (type, (1,)) / '(1,)type'.\n",
      "  _np_qint8 = np.dtype([(\"qint8\", np.int8, 1)])\n",
      "C:\\Users\\Admin\\Anaconda3\\lib\\site-packages\\tensorboard\\compat\\tensorflow_stub\\dtypes.py:542: FutureWarning: Passing (type, 1) or '1type' as a synonym of type is deprecated; in a future version of numpy, it will be understood as (type, (1,)) / '(1,)type'.\n",
      "  _np_quint8 = np.dtype([(\"quint8\", np.uint8, 1)])\n",
      "C:\\Users\\Admin\\Anaconda3\\lib\\site-packages\\tensorboard\\compat\\tensorflow_stub\\dtypes.py:543: FutureWarning: Passing (type, 1) or '1type' as a synonym of type is deprecated; in a future version of numpy, it will be understood as (type, (1,)) / '(1,)type'.\n",
      "  _np_qint16 = np.dtype([(\"qint16\", np.int16, 1)])\n",
      "C:\\Users\\Admin\\Anaconda3\\lib\\site-packages\\tensorboard\\compat\\tensorflow_stub\\dtypes.py:544: FutureWarning: Passing (type, 1) or '1type' as a synonym of type is deprecated; in a future version of numpy, it will be understood as (type, (1,)) / '(1,)type'.\n",
      "  _np_quint16 = np.dtype([(\"quint16\", np.uint16, 1)])\n",
      "C:\\Users\\Admin\\Anaconda3\\lib\\site-packages\\tensorboard\\compat\\tensorflow_stub\\dtypes.py:545: FutureWarning: Passing (type, 1) or '1type' as a synonym of type is deprecated; in a future version of numpy, it will be understood as (type, (1,)) / '(1,)type'.\n",
      "  _np_qint32 = np.dtype([(\"qint32\", np.int32, 1)])\n",
      "C:\\Users\\Admin\\Anaconda3\\lib\\site-packages\\tensorboard\\compat\\tensorflow_stub\\dtypes.py:550: FutureWarning: Passing (type, 1) or '1type' as a synonym of type is deprecated; in a future version of numpy, it will be understood as (type, (1,)) / '(1,)type'.\n",
      "  np_resource = np.dtype([(\"resource\", np.ubyte, 1)])\n"
     ]
    }
   ],
   "source": [
    "from keras.datasets import mnist\n",
    "from keras.models import Sequential\n",
    "from keras.layers import *\n",
    "import numpy as np\n",
    "from keras.utils import to_categorical"
   ]
  },
  {
   "cell_type": "code",
   "execution_count": 2,
   "metadata": {},
   "outputs": [],
   "source": [
    "(train_data,test_data) = mnist.load_data()"
   ]
  },
  {
   "cell_type": "code",
   "execution_count": 4,
   "metadata": {},
   "outputs": [],
   "source": [
    "x_train = train_data[0]\n",
    "x_train = np.asarray([np.reshape(data,(28,28,1)) for data in x_train])\n",
    "y_train = to_categorical(train_data[1])"
   ]
  },
  {
   "cell_type": "code",
   "execution_count": 6,
   "metadata": {},
   "outputs": [],
   "source": [
    "x_test = test_data[0]\n",
    "x_test = np.asarray([np.reshape(data,(28,28,1)) for data in x_test])\n",
    "y_test_pure = test_data[1]\n",
    "y_test = to_categorical(test_data[1])"
   ]
  },
  {
   "cell_type": "code",
   "execution_count": 7,
   "metadata": {},
   "outputs": [],
   "source": [
    "def make_conv_model_list():\n",
    "    model = Sequential()\n",
    "    model.add(Conv2D(32,(3,3),use_bias=True,activation='relu',padding='same',input_shape=(28,28,1)))\n",
    "    model.add(MaxPool2D(2,2))\n",
    "    model.add(ZeroPadding2D(padding=(1, 1), data_format=None))\n",
    "    model.add(Conv2D(64,(3,3),use_bias=True,padding='same',activation='relu'))\n",
    "    model.add(MaxPool2D(2,2))\n",
    "    model.add(Flatten())\n",
    "    model.add(Dense(64,activation='relu'))\n",
    "    model.add(Dropout(0.25))\n",
    "    model.add(Dense(10, activation='softmax'))\n",
    "    model.compile(optimizer='Adam',loss='categorical_crossentropy',metrics=['acc'])\n",
    "    model.summary()\n",
    "    return model"
   ]
  },
  {
   "cell_type": "code",
   "execution_count": 9,
   "metadata": {},
   "outputs": [],
   "source": [
    "#make  ensemble list 5\n",
    "\n",
    "ensemble_model_list = []\n",
    "ensemble_size = 5"
   ]
  },
  {
   "cell_type": "code",
   "execution_count": 10,
   "metadata": {},
   "outputs": [
    {
     "name": "stderr",
     "output_type": "stream",
     "text": [
      "WARNING: Logging before flag parsing goes to stderr.\n",
      "W0314 19:02:21.358536  1200 deprecation_wrapper.py:119] From C:\\Users\\Admin\\Anaconda3\\lib\\site-packages\\keras\\backend\\tensorflow_backend.py:66: The name tf.get_default_graph is deprecated. Please use tf.compat.v1.get_default_graph instead.\n",
      "\n",
      "W0314 19:02:21.375535  1200 deprecation_wrapper.py:119] From C:\\Users\\Admin\\Anaconda3\\lib\\site-packages\\keras\\backend\\tensorflow_backend.py:541: The name tf.placeholder is deprecated. Please use tf.compat.v1.placeholder instead.\n",
      "\n",
      "W0314 19:02:21.379586  1200 deprecation_wrapper.py:119] From C:\\Users\\Admin\\Anaconda3\\lib\\site-packages\\keras\\backend\\tensorflow_backend.py:4432: The name tf.random_uniform is deprecated. Please use tf.random.uniform instead.\n",
      "\n",
      "W0314 19:02:21.401076  1200 deprecation_wrapper.py:119] From C:\\Users\\Admin\\Anaconda3\\lib\\site-packages\\keras\\backend\\tensorflow_backend.py:4267: The name tf.nn.max_pool is deprecated. Please use tf.nn.max_pool2d instead.\n",
      "\n",
      "W0314 19:02:21.443095  1200 deprecation_wrapper.py:119] From C:\\Users\\Admin\\Anaconda3\\lib\\site-packages\\keras\\backend\\tensorflow_backend.py:148: The name tf.placeholder_with_default is deprecated. Please use tf.compat.v1.placeholder_with_default instead.\n",
      "\n",
      "W0314 19:02:21.454139  1200 deprecation.py:506] From C:\\Users\\Admin\\Anaconda3\\lib\\site-packages\\keras\\backend\\tensorflow_backend.py:3733: calling dropout (from tensorflow.python.ops.nn_ops) with keep_prob is deprecated and will be removed in a future version.\n",
      "Instructions for updating:\n",
      "Please use `rate` instead of `keep_prob`. Rate should be set to `rate = 1 - keep_prob`.\n",
      "W0314 19:02:21.480566  1200 deprecation_wrapper.py:119] From C:\\Users\\Admin\\Anaconda3\\lib\\site-packages\\keras\\optimizers.py:793: The name tf.train.Optimizer is deprecated. Please use tf.compat.v1.train.Optimizer instead.\n",
      "\n",
      "W0314 19:02:21.503540  1200 deprecation_wrapper.py:119] From C:\\Users\\Admin\\Anaconda3\\lib\\site-packages\\keras\\backend\\tensorflow_backend.py:3576: The name tf.log is deprecated. Please use tf.math.log instead.\n",
      "\n",
      "W0314 19:02:21.643343  1200 deprecation.py:323] From C:\\Users\\Admin\\Anaconda3\\lib\\site-packages\\tensorflow\\python\\ops\\math_grad.py:1250: add_dispatch_support.<locals>.wrapper (from tensorflow.python.ops.array_ops) is deprecated and will be removed in a future version.\n",
      "Instructions for updating:\n",
      "Use tf.where in 2.0, which has the same broadcast rule as np.where\n"
     ]
    },
    {
     "name": "stdout",
     "output_type": "stream",
     "text": [
      "Model: \"sequential_1\"\n",
      "_________________________________________________________________\n",
      "Layer (type)                 Output Shape              Param #   \n",
      "=================================================================\n",
      "conv2d_1 (Conv2D)            (None, 28, 28, 32)        320       \n",
      "_________________________________________________________________\n",
      "max_pooling2d_1 (MaxPooling2 (None, 14, 14, 32)        0         \n",
      "_________________________________________________________________\n",
      "zero_padding2d_1 (ZeroPaddin (None, 16, 16, 32)        0         \n",
      "_________________________________________________________________\n",
      "conv2d_2 (Conv2D)            (None, 16, 16, 64)        18496     \n",
      "_________________________________________________________________\n",
      "max_pooling2d_2 (MaxPooling2 (None, 8, 8, 64)          0         \n",
      "_________________________________________________________________\n",
      "flatten_1 (Flatten)          (None, 4096)              0         \n",
      "_________________________________________________________________\n",
      "dense_1 (Dense)              (None, 64)                262208    \n",
      "_________________________________________________________________\n",
      "dropout_1 (Dropout)          (None, 64)                0         \n",
      "_________________________________________________________________\n",
      "dense_2 (Dense)              (None, 10)                650       \n",
      "=================================================================\n",
      "Total params: 281,674\n",
      "Trainable params: 281,674\n",
      "Non-trainable params: 0\n",
      "_________________________________________________________________\n",
      "i_th model training\n",
      "Train on 60000 samples, validate on 10000 samples\n",
      "Epoch 1/5\n",
      "60000/60000 [==============================] - 45s 754us/step - loss: 0.8170 - acc: 0.8728 - val_loss: 0.0700 - val_acc: 0.9797\n",
      "Epoch 2/5\n",
      "60000/60000 [==============================] - 49s 813us/step - loss: 0.1036 - acc: 0.9695 - val_loss: 0.0517 - val_acc: 0.9843\n",
      "Epoch 3/5\n",
      "60000/60000 [==============================] - 53s 889us/step - loss: 0.0753 - acc: 0.9783 - val_loss: 0.0562 - val_acc: 0.9836\n",
      "Epoch 4/5\n",
      "60000/60000 [==============================] - 66s 1ms/step - loss: 0.0600 - acc: 0.9817 - val_loss: 0.0411 - val_acc: 0.9886\n",
      "Epoch 5/5\n",
      "60000/60000 [==============================] - 67s 1ms/step - loss: 0.0505 - acc: 0.9839 - val_loss: 0.0427 - val_acc: 0.9888\n",
      "Model: \"sequential_2\"\n",
      "_________________________________________________________________\n",
      "Layer (type)                 Output Shape              Param #   \n",
      "=================================================================\n",
      "conv2d_3 (Conv2D)            (None, 28, 28, 32)        320       \n",
      "_________________________________________________________________\n",
      "max_pooling2d_3 (MaxPooling2 (None, 14, 14, 32)        0         \n",
      "_________________________________________________________________\n",
      "zero_padding2d_2 (ZeroPaddin (None, 16, 16, 32)        0         \n",
      "_________________________________________________________________\n",
      "conv2d_4 (Conv2D)            (None, 16, 16, 64)        18496     \n",
      "_________________________________________________________________\n",
      "max_pooling2d_4 (MaxPooling2 (None, 8, 8, 64)          0         \n",
      "_________________________________________________________________\n",
      "flatten_2 (Flatten)          (None, 4096)              0         \n",
      "_________________________________________________________________\n",
      "dense_3 (Dense)              (None, 64)                262208    \n",
      "_________________________________________________________________\n",
      "dropout_2 (Dropout)          (None, 64)                0         \n",
      "_________________________________________________________________\n",
      "dense_4 (Dense)              (None, 10)                650       \n",
      "=================================================================\n",
      "Total params: 281,674\n",
      "Trainable params: 281,674\n",
      "Non-trainable params: 0\n",
      "_________________________________________________________________\n",
      "i_th model training\n",
      "Train on 60000 samples, validate on 10000 samples\n",
      "Epoch 1/5\n",
      "60000/60000 [==============================] - 46s 773us/step - loss: 0.8251 - acc: 0.8688 - val_loss: 0.0671 - val_acc: 0.9785\n",
      "Epoch 2/5\n",
      "60000/60000 [==============================] - 44s 739us/step - loss: 0.1064 - acc: 0.9689 - val_loss: 0.0545 - val_acc: 0.9836\n",
      "Epoch 3/5\n",
      "60000/60000 [==============================] - 45s 749us/step - loss: 0.0816 - acc: 0.9759 - val_loss: 0.0478 - val_acc: 0.9857\n",
      "Epoch 4/5\n",
      "60000/60000 [==============================] - 44s 736us/step - loss: 0.0653 - acc: 0.9802 - val_loss: 0.0529 - val_acc: 0.9854\n",
      "Epoch 5/5\n",
      "60000/60000 [==============================] - 45s 742us/step - loss: 0.0565 - acc: 0.9827 - val_loss: 0.0403 - val_acc: 0.9886\n",
      "Model: \"sequential_3\"\n",
      "_________________________________________________________________\n",
      "Layer (type)                 Output Shape              Param #   \n",
      "=================================================================\n",
      "conv2d_5 (Conv2D)            (None, 28, 28, 32)        320       \n",
      "_________________________________________________________________\n",
      "max_pooling2d_5 (MaxPooling2 (None, 14, 14, 32)        0         \n",
      "_________________________________________________________________\n",
      "zero_padding2d_3 (ZeroPaddin (None, 16, 16, 32)        0         \n",
      "_________________________________________________________________\n",
      "conv2d_6 (Conv2D)            (None, 16, 16, 64)        18496     \n",
      "_________________________________________________________________\n",
      "max_pooling2d_6 (MaxPooling2 (None, 8, 8, 64)          0         \n",
      "_________________________________________________________________\n",
      "flatten_3 (Flatten)          (None, 4096)              0         \n",
      "_________________________________________________________________\n",
      "dense_5 (Dense)              (None, 64)                262208    \n",
      "_________________________________________________________________\n",
      "dropout_3 (Dropout)          (None, 64)                0         \n",
      "_________________________________________________________________\n",
      "dense_6 (Dense)              (None, 10)                650       \n",
      "=================================================================\n",
      "Total params: 281,674\n",
      "Trainable params: 281,674\n",
      "Non-trainable params: 0\n",
      "_________________________________________________________________\n",
      "i_th model training\n",
      "Train on 60000 samples, validate on 10000 samples\n",
      "Epoch 1/5\n",
      "60000/60000 [==============================] - 46s 768us/step - loss: 0.7616 - acc: 0.8762 - val_loss: 0.0824 - val_acc: 0.9763\n",
      "Epoch 2/5\n",
      "60000/60000 [==============================] - 45s 747us/step - loss: 0.1096 - acc: 0.9681 - val_loss: 0.0570 - val_acc: 0.9822\n",
      "Epoch 3/5\n",
      "60000/60000 [==============================] - 46s 773us/step - loss: 0.0789 - acc: 0.9771 - val_loss: 0.0548 - val_acc: 0.9832\n",
      "Epoch 4/5\n",
      "60000/60000 [==============================] - 45s 754us/step - loss: 0.0588 - acc: 0.9824 - val_loss: 0.0411 - val_acc: 0.9873\n",
      "Epoch 5/5\n",
      "60000/60000 [==============================] - 46s 760us/step - loss: 0.0553 - acc: 0.9835 - val_loss: 0.0406 - val_acc: 0.9873\n",
      "Model: \"sequential_4\"\n",
      "_________________________________________________________________\n",
      "Layer (type)                 Output Shape              Param #   \n",
      "=================================================================\n",
      "conv2d_7 (Conv2D)            (None, 28, 28, 32)        320       \n",
      "_________________________________________________________________\n",
      "max_pooling2d_7 (MaxPooling2 (None, 14, 14, 32)        0         \n",
      "_________________________________________________________________\n",
      "zero_padding2d_4 (ZeroPaddin (None, 16, 16, 32)        0         \n",
      "_________________________________________________________________\n",
      "conv2d_8 (Conv2D)            (None, 16, 16, 64)        18496     \n",
      "_________________________________________________________________\n",
      "max_pooling2d_8 (MaxPooling2 (None, 8, 8, 64)          0         \n",
      "_________________________________________________________________\n",
      "flatten_4 (Flatten)          (None, 4096)              0         \n",
      "_________________________________________________________________\n",
      "dense_7 (Dense)              (None, 64)                262208    \n",
      "_________________________________________________________________\n",
      "dropout_4 (Dropout)          (None, 64)                0         \n",
      "_________________________________________________________________\n",
      "dense_8 (Dense)              (None, 10)                650       \n",
      "=================================================================\n",
      "Total params: 281,674\n",
      "Trainable params: 281,674\n",
      "Non-trainable params: 0\n",
      "_________________________________________________________________\n",
      "i_th model training\n"
     ]
    },
    {
     "name": "stdout",
     "output_type": "stream",
     "text": [
      "Train on 60000 samples, validate on 10000 samples\n",
      "Epoch 1/5\n",
      "60000/60000 [==============================] - 45s 742us/step - loss: 0.9290 - acc: 0.8619 - val_loss: 0.0679 - val_acc: 0.9800\n",
      "Epoch 2/5\n",
      "60000/60000 [==============================] - 44s 735us/step - loss: 0.1198 - acc: 0.9655 - val_loss: 0.0598 - val_acc: 0.9806\n",
      "Epoch 3/5\n",
      "60000/60000 [==============================] - 44s 735us/step - loss: 0.0797 - acc: 0.9768 - val_loss: 0.0416 - val_acc: 0.9872\n",
      "Epoch 4/5\n",
      "60000/60000 [==============================] - 44s 737us/step - loss: 0.0637 - acc: 0.9811 - val_loss: 0.0416 - val_acc: 0.9860\n",
      "Epoch 5/5\n",
      "60000/60000 [==============================] - 44s 725us/step - loss: 0.0506 - acc: 0.9846 - val_loss: 0.0422 - val_acc: 0.9872\n",
      "Model: \"sequential_5\"\n",
      "_________________________________________________________________\n",
      "Layer (type)                 Output Shape              Param #   \n",
      "=================================================================\n",
      "conv2d_9 (Conv2D)            (None, 28, 28, 32)        320       \n",
      "_________________________________________________________________\n",
      "max_pooling2d_9 (MaxPooling2 (None, 14, 14, 32)        0         \n",
      "_________________________________________________________________\n",
      "zero_padding2d_5 (ZeroPaddin (None, 16, 16, 32)        0         \n",
      "_________________________________________________________________\n",
      "conv2d_10 (Conv2D)           (None, 16, 16, 64)        18496     \n",
      "_________________________________________________________________\n",
      "max_pooling2d_10 (MaxPooling (None, 8, 8, 64)          0         \n",
      "_________________________________________________________________\n",
      "flatten_5 (Flatten)          (None, 4096)              0         \n",
      "_________________________________________________________________\n",
      "dense_9 (Dense)              (None, 64)                262208    \n",
      "_________________________________________________________________\n",
      "dropout_5 (Dropout)          (None, 64)                0         \n",
      "_________________________________________________________________\n",
      "dense_10 (Dense)             (None, 10)                650       \n",
      "=================================================================\n",
      "Total params: 281,674\n",
      "Trainable params: 281,674\n",
      "Non-trainable params: 0\n",
      "_________________________________________________________________\n",
      "i_th model training\n",
      "Train on 60000 samples, validate on 10000 samples\n",
      "Epoch 1/5\n",
      "60000/60000 [==============================] - 45s 748us/step - loss: 0.7916 - acc: 0.8726 - val_loss: 0.0691 - val_acc: 0.9797\n",
      "Epoch 2/5\n",
      "60000/60000 [==============================] - 44s 734us/step - loss: 0.1212 - acc: 0.9645 - val_loss: 0.0604 - val_acc: 0.9810s - loss: 0.121 - ETA: 0s - loss: 0.1214 - acc\n",
      "Epoch 3/5\n",
      "60000/60000 [==============================] - 44s 735us/step - loss: 0.0852 - acc: 0.9746 - val_loss: 0.0487 - val_acc: 0.9864\n",
      "Epoch 4/5\n",
      "60000/60000 [==============================] - 45s 755us/step - loss: 0.0668 - acc: 0.9802 - val_loss: 0.0390 - val_acc: 0.9887\n",
      "Epoch 5/5\n",
      "60000/60000 [==============================] - 44s 732us/step - loss: 0.0556 - acc: 0.9830 - val_loss: 0.0432 - val_acc: 0.9879\n"
     ]
    }
   ],
   "source": [
    "for i in range(ensemble_size):\n",
    "    this_model = make_conv_model_list()\n",
    "    print('i_th model training')\n",
    "    this_model.fit(x_train, y_train,\n",
    "          batch_size=128,\n",
    "          epochs=5,\n",
    "          verbose=1,\n",
    "          validation_data=(x_test, y_test))\n",
    "    \n",
    "    ensemble_model_list.append(this_model)"
   ]
  },
  {
   "cell_type": "code",
   "execution_count": 11,
   "metadata": {},
   "outputs": [],
   "source": [
    "#results of all models\n",
    "    \n",
    "all_predicted = np.zeros(y_test.shape)"
   ]
  },
  {
   "cell_type": "code",
   "execution_count": 12,
   "metadata": {},
   "outputs": [],
   "source": [
    "for one in ensemble_model_list:\n",
    "    all_predicted =all_predicted+one.predict(x_test)"
   ]
  },
  {
   "cell_type": "code",
   "execution_count": 13,
   "metadata": {},
   "outputs": [],
   "source": [
    "#get final res\n",
    "\n",
    "final_res = []\n",
    "for one in all_predicted:\n",
    "    final_res.append(np.argmax(one))"
   ]
  },
  {
   "cell_type": "code",
   "execution_count": 14,
   "metadata": {},
   "outputs": [],
   "source": [
    "final_res = np.asarray(final_res)"
   ]
  },
  {
   "cell_type": "code",
   "execution_count": 15,
   "metadata": {},
   "outputs": [],
   "source": [
    "entire = y_test_pure.shape[0]"
   ]
  },
  {
   "cell_type": "code",
   "execution_count": 16,
   "metadata": {},
   "outputs": [],
   "source": [
    "ele = 0\n",
    "for one in range(entire):\n",
    "    if(y_test_pure[one]==final_res[one]):\n",
    "        ele=ele+1\n",
    "    \n",
    "res_acc = ele/entire"
   ]
  },
  {
   "cell_type": "code",
   "execution_count": 17,
   "metadata": {},
   "outputs": [
    {
     "name": "stdout",
     "output_type": "stream",
     "text": [
      "fianl result test accuracy: 0.9918\n"
     ]
    }
   ],
   "source": [
    "print('fianl result test accuracy:',res_acc)"
   ]
  },
  {
   "cell_type": "code",
   "execution_count": null,
   "metadata": {},
   "outputs": [],
   "source": [
    "\n"
   ]
  }
 ],
 "metadata": {
  "kernelspec": {
   "display_name": "Python 3",
   "language": "python",
   "name": "python3"
  },
  "language_info": {
   "codemirror_mode": {
    "name": "ipython",
    "version": 3
   },
   "file_extension": ".py",
   "mimetype": "text/x-python",
   "name": "python",
   "nbconvert_exporter": "python",
   "pygments_lexer": "ipython3",
   "version": "3.7.6"
  }
 },
 "nbformat": 4,
 "nbformat_minor": 4
}
