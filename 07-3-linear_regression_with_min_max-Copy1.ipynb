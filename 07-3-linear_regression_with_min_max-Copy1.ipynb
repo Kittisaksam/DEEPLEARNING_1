{
 "cells": [
  {
   "cell_type": "code",
   "execution_count": 1,
   "metadata": {},
   "outputs": [
    {
     "name": "stderr",
     "output_type": "stream",
     "text": [
      "Using TensorFlow backend.\n",
      "C:\\Users\\Admin\\Anaconda3\\lib\\site-packages\\tensorflow\\python\\framework\\dtypes.py:516: FutureWarning: Passing (type, 1) or '1type' as a synonym of type is deprecated; in a future version of numpy, it will be understood as (type, (1,)) / '(1,)type'.\n",
      "  _np_qint8 = np.dtype([(\"qint8\", np.int8, 1)])\n",
      "C:\\Users\\Admin\\Anaconda3\\lib\\site-packages\\tensorflow\\python\\framework\\dtypes.py:517: FutureWarning: Passing (type, 1) or '1type' as a synonym of type is deprecated; in a future version of numpy, it will be understood as (type, (1,)) / '(1,)type'.\n",
      "  _np_quint8 = np.dtype([(\"quint8\", np.uint8, 1)])\n",
      "C:\\Users\\Admin\\Anaconda3\\lib\\site-packages\\tensorflow\\python\\framework\\dtypes.py:518: FutureWarning: Passing (type, 1) or '1type' as a synonym of type is deprecated; in a future version of numpy, it will be understood as (type, (1,)) / '(1,)type'.\n",
      "  _np_qint16 = np.dtype([(\"qint16\", np.int16, 1)])\n",
      "C:\\Users\\Admin\\Anaconda3\\lib\\site-packages\\tensorflow\\python\\framework\\dtypes.py:519: FutureWarning: Passing (type, 1) or '1type' as a synonym of type is deprecated; in a future version of numpy, it will be understood as (type, (1,)) / '(1,)type'.\n",
      "  _np_quint16 = np.dtype([(\"quint16\", np.uint16, 1)])\n",
      "C:\\Users\\Admin\\Anaconda3\\lib\\site-packages\\tensorflow\\python\\framework\\dtypes.py:520: FutureWarning: Passing (type, 1) or '1type' as a synonym of type is deprecated; in a future version of numpy, it will be understood as (type, (1,)) / '(1,)type'.\n",
      "  _np_qint32 = np.dtype([(\"qint32\", np.int32, 1)])\n",
      "C:\\Users\\Admin\\Anaconda3\\lib\\site-packages\\tensorflow\\python\\framework\\dtypes.py:525: FutureWarning: Passing (type, 1) or '1type' as a synonym of type is deprecated; in a future version of numpy, it will be understood as (type, (1,)) / '(1,)type'.\n",
      "  np_resource = np.dtype([(\"resource\", np.ubyte, 1)])\n",
      "C:\\Users\\Admin\\Anaconda3\\lib\\site-packages\\tensorboard\\compat\\tensorflow_stub\\dtypes.py:541: FutureWarning: Passing (type, 1) or '1type' as a synonym of type is deprecated; in a future version of numpy, it will be understood as (type, (1,)) / '(1,)type'.\n",
      "  _np_qint8 = np.dtype([(\"qint8\", np.int8, 1)])\n",
      "C:\\Users\\Admin\\Anaconda3\\lib\\site-packages\\tensorboard\\compat\\tensorflow_stub\\dtypes.py:542: FutureWarning: Passing (type, 1) or '1type' as a synonym of type is deprecated; in a future version of numpy, it will be understood as (type, (1,)) / '(1,)type'.\n",
      "  _np_quint8 = np.dtype([(\"quint8\", np.uint8, 1)])\n",
      "C:\\Users\\Admin\\Anaconda3\\lib\\site-packages\\tensorboard\\compat\\tensorflow_stub\\dtypes.py:543: FutureWarning: Passing (type, 1) or '1type' as a synonym of type is deprecated; in a future version of numpy, it will be understood as (type, (1,)) / '(1,)type'.\n",
      "  _np_qint16 = np.dtype([(\"qint16\", np.int16, 1)])\n",
      "C:\\Users\\Admin\\Anaconda3\\lib\\site-packages\\tensorboard\\compat\\tensorflow_stub\\dtypes.py:544: FutureWarning: Passing (type, 1) or '1type' as a synonym of type is deprecated; in a future version of numpy, it will be understood as (type, (1,)) / '(1,)type'.\n",
      "  _np_quint16 = np.dtype([(\"quint16\", np.uint16, 1)])\n",
      "C:\\Users\\Admin\\Anaconda3\\lib\\site-packages\\tensorboard\\compat\\tensorflow_stub\\dtypes.py:545: FutureWarning: Passing (type, 1) or '1type' as a synonym of type is deprecated; in a future version of numpy, it will be understood as (type, (1,)) / '(1,)type'.\n",
      "  _np_qint32 = np.dtype([(\"qint32\", np.int32, 1)])\n",
      "C:\\Users\\Admin\\Anaconda3\\lib\\site-packages\\tensorboard\\compat\\tensorflow_stub\\dtypes.py:550: FutureWarning: Passing (type, 1) or '1type' as a synonym of type is deprecated; in a future version of numpy, it will be understood as (type, (1,)) / '(1,)type'.\n",
      "  np_resource = np.dtype([(\"resource\", np.ubyte, 1)])\n"
     ]
    }
   ],
   "source": [
    "from keras.models import Sequential\n",
    "from keras.layers import Dense, Activation\n",
    "from keras.optimizers import SGD\n",
    "from sklearn.preprocessing import MinMaxScaler\n",
    "import numpy as np\n",
    "np.random.seed(2020)  # for reproducibility"
   ]
  },
  {
   "cell_type": "code",
   "execution_count": 2,
   "metadata": {},
   "outputs": [],
   "source": [
    "xy = np.array([[828.659973, 833.450012, 908100, 828.349976, 831.659973],\n",
    "               [823.02002, 828.070007, 1828100, 821.655029, 828.070007],\n",
    "               [819.929993, 824.400024, 1438100, 818.97998, 824.159973],\n",
    "               [816, 820.958984, 1008100, 815.48999, 819.23999],\n",
    "               [819.359985, 823, 1188100, 818.469971, 818.97998],\n",
    "               [819, 823, 1198100, 816, 820.450012],\n",
    "               [811.700012, 815.25, 1098100, 809.780029, 813.669983],\n",
    "               [809.51001, 816.659973, 1398100, 804.539978, 809.559998]])"
   ]
  },
  {
   "cell_type": "code",
   "execution_count": 3,
   "metadata": {},
   "outputs": [
    {
     "name": "stdout",
     "output_type": "stream",
     "text": [
      "[[1.         1.         0.         1.         1.        ]\n",
      " [0.70548491 0.70439552 1.         0.71881783 0.83755792]\n",
      " [0.54412549 0.50274824 0.57608696 0.60646801 0.6606331 ]\n",
      " [0.33890353 0.31368023 0.10869565 0.45989134 0.43800918]\n",
      " [0.51436    0.4258239  0.30434783 0.58504805 0.42624401]\n",
      " [0.49556179 0.4258239  0.31521739 0.48131134 0.49276137]\n",
      " [0.11436064 0.         0.20652174 0.22007776 0.18597238]\n",
      " [0.         0.07747099 0.5326087  0.         0.        ]]\n"
     ]
    }
   ],
   "source": [
    "# very important. It does not work without it.\n",
    "scaler = MinMaxScaler(feature_range=(0, 1))\n",
    "xy = scaler.fit_transform(xy)\n",
    "print(xy)"
   ]
  },
  {
   "cell_type": "code",
   "execution_count": 4,
   "metadata": {},
   "outputs": [],
   "source": [
    "x_data = xy[:, 0:-1]\n",
    "y_data = xy[:, [-1]]"
   ]
  },
  {
   "cell_type": "code",
   "execution_count": 5,
   "metadata": {},
   "outputs": [
    {
     "name": "stdout",
     "output_type": "stream",
     "text": [
      "[[1.         1.         0.         1.        ]\n",
      " [0.70548491 0.70439552 1.         0.71881783]\n",
      " [0.54412549 0.50274824 0.57608696 0.60646801]\n",
      " [0.33890353 0.31368023 0.10869565 0.45989134]\n",
      " [0.51436    0.4258239  0.30434783 0.58504805]\n",
      " [0.49556179 0.4258239  0.31521739 0.48131134]\n",
      " [0.11436064 0.         0.20652174 0.22007776]\n",
      " [0.         0.07747099 0.5326087  0.        ]]\n",
      "[[1.        ]\n",
      " [0.83755792]\n",
      " [0.6606331 ]\n",
      " [0.43800918]\n",
      " [0.42624401]\n",
      " [0.49276137]\n",
      " [0.18597238]\n",
      " [0.        ]]\n"
     ]
    }
   ],
   "source": [
    "print(x_data)\n",
    "print(y_data)"
   ]
  },
  {
   "cell_type": "code",
   "execution_count": 6,
   "metadata": {},
   "outputs": [
    {
     "name": "stderr",
     "output_type": "stream",
     "text": [
      "WARNING: Logging before flag parsing goes to stderr.\n",
      "W0314 18:50:18.174100 11596 deprecation_wrapper.py:119] From C:\\Users\\Admin\\Anaconda3\\lib\\site-packages\\keras\\backend\\tensorflow_backend.py:66: The name tf.get_default_graph is deprecated. Please use tf.compat.v1.get_default_graph instead.\n",
      "\n",
      "W0314 18:50:18.192505 11596 deprecation_wrapper.py:119] From C:\\Users\\Admin\\Anaconda3\\lib\\site-packages\\keras\\backend\\tensorflow_backend.py:541: The name tf.placeholder is deprecated. Please use tf.compat.v1.placeholder instead.\n",
      "\n",
      "W0314 18:50:18.195533 11596 deprecation_wrapper.py:119] From C:\\Users\\Admin\\Anaconda3\\lib\\site-packages\\keras\\backend\\tensorflow_backend.py:4432: The name tf.random_uniform is deprecated. Please use tf.random.uniform instead.\n",
      "\n",
      "W0314 18:50:18.225188 11596 deprecation_wrapper.py:119] From C:\\Users\\Admin\\Anaconda3\\lib\\site-packages\\keras\\optimizers.py:793: The name tf.train.Optimizer is deprecated. Please use tf.compat.v1.train.Optimizer instead.\n",
      "\n"
     ]
    },
    {
     "name": "stdout",
     "output_type": "stream",
     "text": [
      "Model: \"sequential_1\"\n",
      "_________________________________________________________________\n",
      "Layer (type)                 Output Shape              Param #   \n",
      "=================================================================\n",
      "dense_1 (Dense)              (None, 1)                 5         \n",
      "_________________________________________________________________\n",
      "activation_1 (Activation)    (None, 1)                 0         \n",
      "=================================================================\n",
      "Total params: 5\n",
      "Trainable params: 5\n",
      "Non-trainable params: 0\n",
      "_________________________________________________________________\n"
     ]
    }
   ],
   "source": [
    "model = Sequential()\n",
    "model.add(Dense(1, input_dim=4))\n",
    "model.add(Activation('linear'))\n",
    "\n",
    "model.compile(loss='mse',\n",
    "              optimizer=SGD(lr=1e-5),\n",
    "              metrics=['accuracy'])\n",
    "model.summary()"
   ]
  },
  {
   "cell_type": "code",
   "execution_count": 7,
   "metadata": {},
   "outputs": [
    {
     "name": "stderr",
     "output_type": "stream",
     "text": [
      "W0314 18:50:18.342107 11596 deprecation_wrapper.py:119] From C:\\Users\\Admin\\Anaconda3\\lib\\site-packages\\keras\\backend\\tensorflow_backend.py:1033: The name tf.assign_add is deprecated. Please use tf.compat.v1.assign_add instead.\n",
      "\n",
      "W0314 18:50:18.355230 11596 deprecation_wrapper.py:119] From C:\\Users\\Admin\\Anaconda3\\lib\\site-packages\\keras\\backend\\tensorflow_backend.py:1020: The name tf.assign is deprecated. Please use tf.compat.v1.assign instead.\n",
      "\n"
     ]
    },
    {
     "name": "stdout",
     "output_type": "stream",
     "text": [
      "Epoch 1/100\n",
      "8/8 [==============================] - 0s 12ms/step - loss: 1.1804 - acc: 0.1250\n",
      "Epoch 2/100\n",
      "8/8 [==============================] - 0s 121us/step - loss: 1.1804 - acc: 0.1250\n",
      "Epoch 3/100\n",
      "8/8 [==============================] - 0s 244us/step - loss: 1.1803 - acc: 0.1250\n",
      "Epoch 4/100\n",
      "8/8 [==============================] - 0s 174us/step - loss: 1.1802 - acc: 0.1250\n",
      "Epoch 5/100\n",
      "8/8 [==============================] - 0s 246us/step - loss: 1.1801 - acc: 0.1250\n",
      "Epoch 6/100\n",
      "8/8 [==============================] - 0s 253us/step - loss: 1.1800 - acc: 0.1250\n",
      "Epoch 7/100\n",
      "8/8 [==============================] - 0s 250us/step - loss: 1.1799 - acc: 0.1250\n",
      "Epoch 8/100\n",
      "8/8 [==============================] - 0s 125us/step - loss: 1.1799 - acc: 0.1250\n",
      "Epoch 9/100\n",
      "8/8 [==============================] - 0s 125us/step - loss: 1.1798 - acc: 0.1250\n",
      "Epoch 10/100\n",
      "8/8 [==============================] - 0s 249us/step - loss: 1.1797 - acc: 0.1250\n",
      "Epoch 11/100\n",
      "8/8 [==============================] - 0s 252us/step - loss: 1.1796 - acc: 0.1250\n",
      "Epoch 12/100\n",
      "8/8 [==============================] - 0s 125us/step - loss: 1.1795 - acc: 0.1250\n",
      "Epoch 13/100\n",
      "8/8 [==============================] - 0s 121us/step - loss: 1.1794 - acc: 0.1250\n",
      "Epoch 14/100\n",
      "8/8 [==============================] - 0s 249us/step - loss: 1.1794 - acc: 0.1250\n",
      "Epoch 15/100\n",
      "8/8 [==============================] - 0s 249us/step - loss: 1.1793 - acc: 0.1250\n",
      "Epoch 16/100\n",
      "8/8 [==============================] - 0s 122us/step - loss: 1.1792 - acc: 0.1250\n",
      "Epoch 17/100\n",
      "8/8 [==============================] - 0s 250us/step - loss: 1.1791 - acc: 0.1250\n",
      "Epoch 18/100\n",
      "8/8 [==============================] - 0s 248us/step - loss: 1.1790 - acc: 0.1250\n",
      "Epoch 19/100\n",
      "8/8 [==============================] - 0s 250us/step - loss: 1.1789 - acc: 0.1250\n",
      "Epoch 20/100\n",
      "8/8 [==============================] - 0s 125us/step - loss: 1.1788 - acc: 0.1250\n",
      "Epoch 21/100\n",
      "8/8 [==============================] - 0s 320us/step - loss: 1.1788 - acc: 0.1250\n",
      "Epoch 22/100\n",
      "8/8 [==============================] - 0s 125us/step - loss: 1.1787 - acc: 0.1250\n",
      "Epoch 23/100\n",
      "8/8 [==============================] - 0s 244us/step - loss: 1.1786 - acc: 0.1250\n",
      "Epoch 24/100\n",
      "8/8 [==============================] - 0s 250us/step - loss: 1.1785 - acc: 0.1250\n",
      "Epoch 25/100\n",
      "8/8 [==============================] - 0s 124us/step - loss: 1.1784 - acc: 0.1250\n",
      "Epoch 26/100\n",
      "8/8 [==============================] - 0s 126us/step - loss: 1.1783 - acc: 0.1250\n",
      "Epoch 27/100\n",
      "8/8 [==============================] - 0s 125us/step - loss: 1.1783 - acc: 0.1250\n",
      "Epoch 28/100\n",
      "8/8 [==============================] - 0s 125us/step - loss: 1.1782 - acc: 0.1250\n",
      "Epoch 29/100\n",
      "8/8 [==============================] - 0s 123us/step - loss: 1.1781 - acc: 0.1250\n",
      "Epoch 30/100\n",
      "8/8 [==============================] - 0s 125us/step - loss: 1.1780 - acc: 0.1250\n",
      "Epoch 31/100\n",
      "8/8 [==============================] - 0s 125us/step - loss: 1.1779 - acc: 0.1250\n",
      "Epoch 32/100\n",
      "8/8 [==============================] - 0s 124us/step - loss: 1.1778 - acc: 0.1250\n",
      "Epoch 33/100\n",
      "8/8 [==============================] - 0s 249us/step - loss: 1.1778 - acc: 0.1250\n",
      "Epoch 34/100\n",
      "8/8 [==============================] - 0s 124us/step - loss: 1.1777 - acc: 0.1250\n",
      "Epoch 35/100\n",
      "8/8 [==============================] - 0s 125us/step - loss: 1.1776 - acc: 0.1250\n",
      "Epoch 36/100\n",
      "8/8 [==============================] - 0s 139us/step - loss: 1.1775 - acc: 0.1250\n",
      "Epoch 37/100\n",
      "8/8 [==============================] - 0s 249us/step - loss: 1.1774 - acc: 0.1250\n",
      "Epoch 38/100\n",
      "8/8 [==============================] - 0s 252us/step - loss: 1.1773 - acc: 0.1250\n",
      "Epoch 39/100\n",
      "8/8 [==============================] - 0s 123us/step - loss: 1.1773 - acc: 0.1250\n",
      "Epoch 40/100\n",
      "8/8 [==============================] - 0s 126us/step - loss: 1.1772 - acc: 0.1250\n",
      "Epoch 41/100\n",
      "8/8 [==============================] - 0s 125us/step - loss: 1.1771 - acc: 0.1250\n",
      "Epoch 42/100\n",
      "8/8 [==============================] - 0s 249us/step - loss: 1.1770 - acc: 0.1250\n",
      "Epoch 43/100\n",
      "8/8 [==============================] - 0s 124us/step - loss: 1.1769 - acc: 0.1250\n",
      "Epoch 44/100\n",
      "8/8 [==============================] - 0s 249us/step - loss: 1.1768 - acc: 0.1250\n",
      "Epoch 45/100\n",
      "8/8 [==============================] - 0s 374us/step - loss: 1.1768 - acc: 0.1250\n",
      "Epoch 46/100\n",
      "8/8 [==============================] - 0s 125us/step - loss: 1.1767 - acc: 0.1250\n",
      "Epoch 47/100\n",
      "8/8 [==============================] - 0s 250us/step - loss: 1.1766 - acc: 0.1250\n",
      "Epoch 48/100\n",
      "8/8 [==============================] - 0s 249us/step - loss: 1.1765 - acc: 0.1250\n",
      "Epoch 49/100\n",
      "8/8 [==============================] - 0s 125us/step - loss: 1.1764 - acc: 0.1250\n",
      "Epoch 50/100\n",
      "8/8 [==============================] - 0s 249us/step - loss: 1.1763 - acc: 0.1250\n",
      "Epoch 51/100\n",
      "8/8 [==============================] - 0s 254us/step - loss: 1.1763 - acc: 0.1250\n",
      "Epoch 52/100\n",
      "8/8 [==============================] - 0s 125us/step - loss: 1.1762 - acc: 0.1250\n",
      "Epoch 53/100\n",
      "8/8 [==============================] - 0s 249us/step - loss: 1.1761 - acc: 0.1250\n",
      "Epoch 54/100\n",
      "8/8 [==============================] - 0s 349us/step - loss: 1.1760 - acc: 0.1250\n",
      "Epoch 55/100\n",
      "8/8 [==============================] - 0s 124us/step - loss: 1.1759 - acc: 0.1250\n",
      "Epoch 56/100\n",
      "8/8 [==============================] - 0s 249us/step - loss: 1.1758 - acc: 0.1250\n",
      "Epoch 57/100\n",
      "8/8 [==============================] - 0s 373us/step - loss: 1.1757 - acc: 0.1250\n",
      "Epoch 58/100\n",
      "8/8 [==============================] - 0s 125us/step - loss: 1.1757 - acc: 0.1250\n",
      "Epoch 59/100\n",
      "8/8 [==============================] - 0s 249us/step - loss: 1.1756 - acc: 0.1250\n",
      "Epoch 60/100\n",
      "8/8 [==============================] - 0s 124us/step - loss: 1.1755 - acc: 0.1250\n",
      "Epoch 61/100\n",
      "8/8 [==============================] - 0s 125us/step - loss: 1.1754 - acc: 0.1250\n",
      "Epoch 62/100\n",
      "8/8 [==============================] - 0s 125us/step - loss: 1.1753 - acc: 0.1250\n",
      "Epoch 63/100\n",
      "8/8 [==============================] - 0s 249us/step - loss: 1.1752 - acc: 0.1250\n",
      "Epoch 64/100\n",
      "8/8 [==============================] - 0s 125us/step - loss: 1.1752 - acc: 0.1250\n",
      "Epoch 65/100\n",
      "8/8 [==============================] - 0s 125us/step - loss: 1.1751 - acc: 0.1250\n",
      "Epoch 66/100\n",
      "8/8 [==============================] - 0s 250us/step - loss: 1.1750 - acc: 0.1250\n",
      "Epoch 67/100\n",
      "8/8 [==============================] - 0s 125us/step - loss: 1.1749 - acc: 0.1250\n",
      "Epoch 68/100\n",
      "8/8 [==============================] - 0s 125us/step - loss: 1.1748 - acc: 0.1250\n",
      "Epoch 69/100\n",
      "8/8 [==============================] - 0s 125us/step - loss: 1.1747 - acc: 0.1250\n",
      "Epoch 70/100\n",
      "8/8 [==============================] - 0s 246us/step - loss: 1.1747 - acc: 0.1250\n",
      "Epoch 71/100\n",
      "8/8 [==============================] - 0s 125us/step - loss: 1.1746 - acc: 0.1250\n",
      "Epoch 72/100\n",
      "8/8 [==============================] - 0s 0us/step - loss: 1.1745 - acc: 0.1250\n",
      "Epoch 73/100\n",
      "8/8 [==============================] - 0s 125us/step - loss: 1.1744 - acc: 0.1250\n",
      "Epoch 74/100\n",
      "8/8 [==============================] - 0s 125us/step - loss: 1.1743 - acc: 0.1250\n",
      "Epoch 75/100\n",
      "8/8 [==============================] - 0s 0us/step - loss: 1.1742 - acc: 0.1250\n",
      "Epoch 76/100\n",
      "8/8 [==============================] - 0s 125us/step - loss: 1.1742 - acc: 0.1250\n",
      "Epoch 77/100\n",
      "8/8 [==============================] - 0s 125us/step - loss: 1.1741 - acc: 0.1250\n",
      "Epoch 78/100\n",
      "8/8 [==============================] - 0s 125us/step - loss: 1.1740 - acc: 0.1250\n",
      "Epoch 79/100\n",
      "8/8 [==============================] - 0s 125us/step - loss: 1.1739 - acc: 0.1250\n",
      "Epoch 80/100\n",
      "8/8 [==============================] - 0s 251us/step - loss: 1.1738 - acc: 0.1250\n",
      "Epoch 81/100\n",
      "8/8 [==============================] - 0s 124us/step - loss: 1.1737 - acc: 0.1250\n",
      "Epoch 82/100\n",
      "8/8 [==============================] - 0s 249us/step - loss: 1.1737 - acc: 0.1250\n",
      "Epoch 83/100\n",
      "8/8 [==============================] - 0s 199us/step - loss: 1.1736 - acc: 0.1250\n",
      "Epoch 84/100\n",
      "8/8 [==============================] - 0s 125us/step - loss: 1.1735 - acc: 0.1250\n",
      "Epoch 85/100\n",
      "8/8 [==============================] - 0s 125us/step - loss: 1.1734 - acc: 0.1250\n",
      "Epoch 86/100\n",
      "8/8 [==============================] - 0s 125us/step - loss: 1.1733 - acc: 0.1250\n",
      "Epoch 87/100\n",
      "8/8 [==============================] - 0s 125us/step - loss: 1.1732 - acc: 0.1250\n"
     ]
    },
    {
     "name": "stdout",
     "output_type": "stream",
     "text": [
      "Epoch 88/100\n",
      "8/8 [==============================] - 0s 247us/step - loss: 1.1732 - acc: 0.1250\n",
      "Epoch 89/100\n",
      "8/8 [==============================] - 0s 125us/step - loss: 1.1731 - acc: 0.1250\n",
      "Epoch 90/100\n",
      "8/8 [==============================] - 0s 125us/step - loss: 1.1730 - acc: 0.1250\n",
      "Epoch 91/100\n",
      "8/8 [==============================] - 0s 125us/step - loss: 1.1729 - acc: 0.1250\n",
      "Epoch 92/100\n",
      "8/8 [==============================] - 0s 250us/step - loss: 1.1728 - acc: 0.1250\n",
      "Epoch 93/100\n",
      "8/8 [==============================] - 0s 125us/step - loss: 1.1727 - acc: 0.1250\n",
      "Epoch 94/100\n",
      "8/8 [==============================] - 0s 317us/step - loss: 1.1727 - acc: 0.1250\n",
      "Epoch 95/100\n",
      "8/8 [==============================] - 0s 124us/step - loss: 1.1726 - acc: 0.1250\n",
      "Epoch 96/100\n",
      "8/8 [==============================] - 0s 249us/step - loss: 1.1725 - acc: 0.1250\n",
      "Epoch 97/100\n",
      "8/8 [==============================] - 0s 125us/step - loss: 1.1724 - acc: 0.1250\n",
      "Epoch 98/100\n",
      "8/8 [==============================] - 0s 125us/step - loss: 1.1723 - acc: 0.1250\n",
      "Epoch 99/100\n",
      "8/8 [==============================] - 0s 249us/step - loss: 1.1722 - acc: 0.1250\n",
      "Epoch 100/100\n",
      "8/8 [==============================] - 0s 124us/step - loss: 1.1722 - acc: 0.1250\n"
     ]
    }
   ],
   "source": [
    "history = model.fit(x_data, y_data, epochs=100)"
   ]
  },
  {
   "cell_type": "code",
   "execution_count": 8,
   "metadata": {},
   "outputs": [
    {
     "name": "stdout",
     "output_type": "stream",
     "text": [
      "\r",
      "8/8 [==============================] - 0s 2ms/step\n"
     ]
    }
   ],
   "source": [
    "predictions = model.predict(x_data)\n",
    "score = model.evaluate(x_data, y_data)"
   ]
  },
  {
   "cell_type": "code",
   "execution_count": 9,
   "metadata": {},
   "outputs": [
    {
     "name": "stdout",
     "output_type": "stream",
     "text": [
      "Prediction:  [[-0.7839926 ]\n",
      " [-0.77827007]\n",
      " [-0.5383365 ]\n",
      " [-0.30706802]\n",
      " [-0.41595143]\n",
      " [-0.39159116]\n",
      " [-0.06894486]\n",
      " [-0.18449864]]\n",
      "Accuracy:  0.125\n"
     ]
    }
   ],
   "source": [
    "print('Prediction: ', predictions)\n",
    "print('Accuracy: ', score[1])"
   ]
  },
  {
   "cell_type": "code",
   "execution_count": null,
   "metadata": {},
   "outputs": [],
   "source": []
  }
 ],
 "metadata": {
  "kernelspec": {
   "display_name": "Python 3",
   "language": "python",
   "name": "python3"
  },
  "language_info": {
   "codemirror_mode": {
    "name": "ipython",
    "version": 3
   },
   "file_extension": ".py",
   "mimetype": "text/x-python",
   "name": "python",
   "nbconvert_exporter": "python",
   "pygments_lexer": "ipython3",
   "version": "3.7.6"
  }
 },
 "nbformat": 4,
 "nbformat_minor": 4
}
